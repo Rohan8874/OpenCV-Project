{
 "cells": [
  {
   "cell_type": "code",
   "execution_count": 1,
   "id": "da6750de",
   "metadata": {},
   "outputs": [],
   "source": [
    "import cv2\n",
    "import mediapipe as mp "
   ]
  },
  {
   "cell_type": "code",
   "execution_count": 2,
   "id": "8f17e180",
   "metadata": {},
   "outputs": [],
   "source": [
    "mp_face_det = mp.solutions.face_detection\n",
    "mp_draw = mp.solutions.drawing_utils"
   ]
  },
  {
   "cell_type": "code",
   "execution_count": 3,
   "id": "c22bede0",
   "metadata": {},
   "outputs": [],
   "source": [
    "face_dect = mp_face_det.FaceDetection(min_detection_confidence=0.5,model_selection=0)\n",
    "cap = cv2.VideoCapture(0)\n",
    "while cap.isOpened():\n",
    "   r,frame = cap.read()\n",
    "   frame = cv2.flip(frame,1)\n",
    "   \n",
    "   frame = cv2.cvtColor(frame,cv2.COLOR_BGR2RGB)\n",
    "   result = face_dect.process(frame)\n",
    "   frame = cv2.cvtColor(frame,cv2.COLOR_RGB2BGR)\n",
    "\n",
    "\n",
    "   if r == True:\n",
    "      for cr in result.detections:\n",
    "            mp_draw.draw_detection(frame, cr)\n",
    "\n",
    "      cv2.imshow(\"Rohan\",frame)\n",
    "      if cv2.waitKey(30) & 0xff == ord(\"p\"):\n",
    "         break\n",
    "   else:\n",
    "      break\n",
    "\n",
    "cap.release()\n",
    "cv2.destroyAllWindows()"
   ]
  },
  {
   "cell_type": "code",
   "execution_count": null,
   "id": "b8a5d655",
   "metadata": {},
   "outputs": [],
   "source": []
  }
 ],
 "metadata": {
  "kernelspec": {
   "display_name": "Python 3",
   "language": "python",
   "name": "python3"
  },
  "language_info": {
   "codemirror_mode": {
    "name": "ipython",
    "version": 3
   },
   "file_extension": ".py",
   "mimetype": "text/x-python",
   "name": "python",
   "nbconvert_exporter": "python",
   "pygments_lexer": "ipython3",
   "version": "3.8.10"
  }
 },
 "nbformat": 4,
 "nbformat_minor": 5
}
