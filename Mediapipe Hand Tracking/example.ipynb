{
 "cells": [
  {
   "cell_type": "code",
   "execution_count": 1,
   "id": "14258718",
   "metadata": {},
   "outputs": [],
   "source": [
    "import cv2\n",
    "import mediapipe as mp "
   ]
  },
  {
   "cell_type": "code",
   "execution_count": 3,
   "id": "f0aa05a8",
   "metadata": {},
   "outputs": [],
   "source": [
    "mp_drawing = mp.solutions.drawing_utils\n",
    "mp_drawing_styles = mp.solutions.drawing_styles\n",
    "mp_hands = mp.solutions.hands\n",
    "\n",
    "\n",
    "cap = cv2.VideoCapture(0)\n",
    "p = mp_hands.Hands(model_complexity=0,min_detection_confidence=0.5,min_tracking_confidence=0.5)\n",
    "\n",
    "while True:\n",
    "    r , frame = cap.read()\n",
    "    if r == True:\n",
    "        frame = cv2.flip(frame,1)\n",
    "        \n",
    "        img = cv2.cvtColor(frame,cv2.COLOR_BGR2RGB)\n",
    "        result = p.process(img)\n",
    "        frame = cv2.cvtColor(img,cv2.COLOR_RGB2BGR)\n",
    "\n",
    "        if result.multi_hand_landmarks:\n",
    "            for landmarks in result.multi_hand_landmarks:\n",
    "                mp_drawing.draw_landmarks(frame,\n",
    "                                          landmarks,\n",
    "                                          mp_hands.HAND_CONNECTIONS)\n",
    "\n",
    "\n",
    "        cv2.imshow(\"Rohan\",frame)\n",
    "        if cv2.waitKey(25) == ord(\"p\"):\n",
    "            break\n",
    "    else:\n",
    "        break\n",
    "cap.release()\n",
    "cv2.destroyAllWindows()"
   ]
  }
 ],
 "metadata": {
  "kernelspec": {
   "display_name": "Python 3",
   "language": "python",
   "name": "python3"
  },
  "language_info": {
   "codemirror_mode": {
    "name": "ipython",
    "version": 3
   },
   "file_extension": ".py",
   "mimetype": "text/x-python",
   "name": "python",
   "nbconvert_exporter": "python",
   "pygments_lexer": "ipython3",
   "version": "3.8.10"
  }
 },
 "nbformat": 4,
 "nbformat_minor": 5
}
